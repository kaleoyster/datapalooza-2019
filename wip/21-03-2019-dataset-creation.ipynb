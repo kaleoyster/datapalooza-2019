{
 "cells": [
  {
   "cell_type": "code",
   "execution_count": 1,
   "metadata": {},
   "outputs": [],
   "source": [
    "import plotly.plotly as py\n",
    "import plotly.figure_factory as ff\n",
    "\n",
    "import numpy as np\n",
    "import pandas as pd\n",
    "\n",
    "\n",
    "def visualizeData(fips,values):\n",
    "    \n",
    "    \"\"\"\n",
    "    Description: Returns a visualization of values on U.S. Map\n",
    "    \n",
    "    \n",
    "    Input: fips - \n",
    "    :datatype: int\n",
    "    \n",
    "    Output: Returns a visualization of values for FIPS\n",
    "    :datatype: int, float\n",
    "    \"\"\"\n",
    "    \n",
    "    colorscale = [\"#f7fbff\",\"#ebf3fb\",\"#deebf7\",\"#d2e3f3\",\"#c6dbef\",\"#b3d2e9\",\"#9ecae1\",\n",
    "              \"#85bcdb\",\"#6baed6\",\"#57a0ce\",\"#4292c6\",\"#3082be\",\"#2171b5\",\"#1361a9\",\n",
    "              \"#08519c\",\"#0b4083\",\"#08306b\"]\n",
    "    endpts = list(np.linspace(min(values), max(values), len(colorscale) - 1))\n",
    "    \n",
    "    fig = ff.create_choropleth(\n",
    "        fips=fips, values=values,\n",
    "        binning_endpoints=endpts,\n",
    "        colorscale=colorscale,\n",
    "        show_state_data=False,\n",
    "        show_hover=True, centroid_marker={'opacity': 0},\n",
    "        asp=2.9, title='USA by Unemployment %',\n",
    "        legend_title='% unemployed'\n",
    "     )\n",
    "    return py.iplot(fig, filename='choropleth_full_usa')\n",
    "\n",
    "def updateDict(county, fips):\n",
    "    for county_name, fip_code in zip(county, fips):\n",
    "        try:\n",
    "            countyFipMap[i]\n",
    "        except:\n",
    "            fipCountyMap[str(fip_code).zfill(5)] = county_name\n",
    "    return fipCountyMap\n",
    "\n",
    "\n"
   ]
  },
  {
   "cell_type": "code",
   "execution_count": 2,
   "metadata": {},
   "outputs": [
    {
     "data": {
      "text/html": [
       "<iframe id=\"igraph\" scrolling=\"no\" style=\"border:none;\" seamless=\"seamless\" src=\"https://plot.ly/~kaleoyster/8.embed\" height=\"450px\" width=\"900px\"></iframe>"
      ],
      "text/plain": [
       "<plotly.tools.PlotlyDisplay object>"
      ]
     },
     "execution_count": 2,
     "metadata": {},
     "output_type": "execute_result"
    }
   ],
   "source": [
    "# dataset one\n",
    "filename = \"ACS_17_5YR_S0102_with_ann.xls\"\n",
    "filename1 = 'PEP_2017_PEPSR6H_with_ann.xls'\n",
    "\n",
    "df =  pd.read_excel(filename, index_col=0)\n",
    "\n",
    "\n",
    "pop = df['HC02_EST_VC01'].tolist()[1:]\n",
    "county = df['GEO.display-label'].tolist()[1:]\n",
    "fips = df['GEO.id2'].tolist()[1:]\n",
    "\n",
    "visualizeData(fips,pop)"
   ]
  },
  {
   "cell_type": "code",
   "execution_count": 169,
   "metadata": {},
   "outputs": [],
   "source": [
    "df.set_index('GEO.display-label', inplace = True)\n",
    "df1.set_index('GEO.display-label', inplace = True)\n",
    "result1 = df.join(df1,how=\"left\", lsuffix='_left', rsuffix='_right')\n",
    "result = pd.merge(df, df1,how='left', on='GEO.display-label')"
   ]
  }
 ],
 "metadata": {
  "kernelspec": {
   "display_name": "Python 3",
   "language": "python",
   "name": "python3"
  },
  "language_info": {
   "codemirror_mode": {
    "name": "ipython",
    "version": 3
   },
   "file_extension": ".py",
   "mimetype": "text/x-python",
   "name": "python",
   "nbconvert_exporter": "python",
   "pygments_lexer": "ipython3",
   "version": "3.6.4"
  }
 },
 "nbformat": 4,
 "nbformat_minor": 2
}
