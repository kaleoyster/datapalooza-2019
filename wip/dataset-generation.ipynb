{
 "cells": [
  {
   "cell_type": "code",
   "execution_count": 62,
   "metadata": {},
   "outputs": [],
   "source": [
    "import plotly.plotly as py\n",
    "import plotly.figure_factory as ff\n",
    "import numpy as np\n",
    "import pandas as pd\n",
    "import statsmodels.api as sm\n",
    "import matplotlib.pyplot as plt\n",
    "from statsmodels.sandbox.regression.predstd import wls_prediction_std\n",
    "%matplotlib inline\n",
    "\n",
    "import warnings\n",
    "warnings.filterwarnings(\"ignore\")"
   ]
  },
  {
   "cell_type": "markdown",
   "metadata": {},
   "source": [
    "### Export data "
   ]
  },
  {
   "cell_type": "code",
   "execution_count": 202,
   "metadata": {},
   "outputs": [],
   "source": [
    "df = pd.read_csv('renamed.csv', encoding = \"ISO-8859-1\")\n",
    "new_header = df.iloc[0] \n",
    "df = df[1:] \n",
    "df.columns = new_header"
   ]
  },
  {
   "cell_type": "code",
   "execution_count": 203,
   "metadata": {
    "scrolled": false
   },
   "outputs": [],
   "source": [
    "estimate_columns = []\n",
    "\n",
    "for i in df.columns:\n",
    "    if i.lower().startswith(\"total; estimate;\"):\n",
    "        estimate_columns.append(i)\n",
    "cols = ['Id2','Geography','Insured; Estimate; Civilian noninstitutionalized population']+df_estimate.columns.tolist()\n",
    "df_new = df[cols]"
   ]
  },
  {
   "cell_type": "code",
   "execution_count": 204,
   "metadata": {},
   "outputs": [],
   "source": [
    "# Conversion of Int\n",
    "cols = []\n",
    "cols_names = []\n",
    "for col in df_new.columns[4:]:\n",
    "    col_temp = pd.to_numeric(df_new[col])/ pd.to_numeric(df_new['Total; Estimate; Civilian noninstitutionalized population'])\n",
    "    cols_names.append(col)\n",
    "    cols.append(col_temp)"
   ]
  },
  {
   "cell_type": "code",
   "execution_count": 205,
   "metadata": {
    "scrolled": true
   },
   "outputs": [],
   "source": [
    "# Creating a dictionary\n",
    "dataset = {}\n",
    "for c, cn in zip(cols, cols_names):\n",
    "    dataset[cn] = c"
   ]
  },
  {
   "cell_type": "code",
   "execution_count": 206,
   "metadata": {},
   "outputs": [],
   "source": [
    "# Creating a new datafram\n",
    "df_percentages = pd.DataFrame(dataset)\n",
    "df_percentages['Id2'] = df_new['Id2']\n",
    "df_percentages['Geography'] = df_new['Geography']\n",
    "df_percentages['Total Insured Percentage'] = pd.to_numeric(df_new['Insured; Estimate; Civilian noninstitutionalized population'])/ pd.to_numeric(df_new['Total; Estimate; Civilian noninstitutionalized population'])"
   ]
  },
  {
   "cell_type": "code",
   "execution_count": 214,
   "metadata": {},
   "outputs": [
    {
     "name": "stdout",
     "output_type": "stream",
     "text": [
      "(3142, 63)\n",
      "(3142, 63)\n"
     ]
    }
   ],
   "source": [
    "# Dataframe shape\n",
    "print(df_percentages.shape)\n",
    "print(df_percentages.dropna(how='any').shape)"
   ]
  },
  {
   "cell_type": "code",
   "execution_count": 225,
   "metadata": {},
   "outputs": [],
   "source": [
    "column_names = ['Id2','Geography','Total Insured Percentage']+df_estimate.columns.tolist()[1:]\n",
    "df_percentages = df_percentages[column_names]\n",
    "df_percentages.to_csv('03-26-19-estimate-health-5yrs')"
   ]
  }
 ],
 "metadata": {
  "kernelspec": {
   "display_name": "Python 3",
   "language": "python",
   "name": "python3"
  },
  "language_info": {
   "codemirror_mode": {
    "name": "ipython",
    "version": 3
   },
   "file_extension": ".py",
   "mimetype": "text/x-python",
   "name": "python",
   "nbconvert_exporter": "python",
   "pygments_lexer": "ipython3",
   "version": "3.6.4"
  }
 },
 "nbformat": 4,
 "nbformat_minor": 2
}
